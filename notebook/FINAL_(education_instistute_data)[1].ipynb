{
 "cells": [
  {
   "cell_type": "markdown",
   "id": "a8136f2b",
   "metadata": {},
   "source": [
    "# Predictive Lead Conversion Using Metadata\n",
    "\n",
    "This notebook uses your cleaned dataset to build a predictive model for lead conversion. Follow the steps below for data analysis, model building, and evaluation.\n",
    "\n",
    "**Workflow:**\n",
    "1. Load the cleaned data\n",
    "2. Exploratory Data Analysis (EDA)\n",
    "3. Feature preparation\n",
    "4. Train/test split and scaling\n",
    "5. Model training and evaluation\n",
    "6. Save the trained model\n"
   ]
  },
  {
   "cell_type": "code",
   "execution_count": null,
   "id": "f7a37034",
   "metadata": {},
   "outputs": [],
   "source": [
    "import pandas as pd\n",
    "import numpy as np\n",
    "import matplotlib.pyplot as plt\n",
    "import seaborn as sns\n",
    "from sklearn.model_selection import train_test_split, GridSearchCV\n",
    "from sklearn.preprocessing import StandardScaler\n",
    "from sklearn.ensemble import RandomForestClassifier\n",
    "from sklearn.metrics import accuracy_score, confusion_matrix, classification_report, ConfusionMatrixDisplay, roc_curve, auc\n",
    "import joblib"
   ]
  },
  {
   "cell_type": "code",
   "execution_count": null,
   "id": "b29d2ef5",
   "metadata": {},
   "outputs": [],
   "source": [
    "df = pd.read_csv('Leads.csv')\n",
    "df.head()"
   ]
  },
  {
   "cell_type": "code",
   "execution_count": null,
   "id": "a3bbe982",
   "metadata": {},
   "outputs": [],
   "source": [
    "print('Shape:', df.shape)\n",
    "df.info()\n",
    "print(df.describe())"
   ]
  },
  {
   "cell_type": "code",
   "execution_count": null,
   "id": "885c2642",
   "metadata": {},
   "outputs": [],
   "source": [
    "print('Missing values per column:')\n",
    "print(df.isnull().sum())"
   ]
  },
  {
   "cell_type": "code",
   "execution_count": null,
   "id": "4812777f",
   "metadata": {},
   "outputs": [],
   "source": [
    "# Fill numeric columns with median\n",
    "for col in df.select_dtypes(include=[np.number]).columns:\n",
    "    df[col] = df[col].fillna(df[col].median())\n",
    "# Fill categorical columns with 'Unknown'\n",
    "for col in df.select_dtypes(include=['object']).columns:\n",
    "    df[col] = df[col].fillna('Unknown')"
   ]
  },
  {
   "cell_type": "code",
   "execution_count": null,
   "id": "6be7188a",
   "metadata": {},
   "outputs": [],
   "source": [
    "plt.figure(figsize=(5,3))\n",
    "sns.countplot(x='Converted', data=df)\n",
    "plt.title('Target Variable Distribution (Converted)')\n",
    "plt.show()"
   ]
  },
  {
   "cell_type": "code",
   "execution_count": null,
   "id": "cb011633",
   "metadata": {},
   "outputs": [],
   "source": [
    "if 'TotalVisits' in df.columns and 'Page Views Per Visit' in df.columns:\n",
    "    df['Total_Interactions'] = df['TotalVisits'] + df['Page Views Per Visit']\n",
    "if 'Tags' in df.columns:\n",
    "    df['Num_Tags'] = df['Tags'].apply(lambda x: len(str(x).split(',')) if x != 'Not Provided' else 0)"
   ]
  },
  {
   "cell_type": "code",
   "execution_count": null,
   "id": "2bd298cd",
   "metadata": {},
   "outputs": [],
   "source": [
    "y = df['Converted']\n",
    "X = df.drop('Converted', axis=1)\n",
    "X_encoded = pd.get_dummies(X, drop_first=True)\n",
    "print('Encoded feature shape:', X_encoded.shape)"
   ]
  },
  {
   "cell_type": "code",
   "execution_count": null,
   "id": "b9b5baca",
   "metadata": {},
   "outputs": [],
   "source": [
    "X_train, X_test, y_train, y_test = train_test_split(X_encoded, y, test_size=0.2, random_state=42)\n",
    "scaler = StandardScaler()\n",
    "X_train_scaled = scaler.fit_transform(X_train)\n",
    "X_test_scaled = scaler.transform(X_test)\n",
    "print('Train shape:', X_train_scaled.shape)\n",
    "print('Test shape:', X_test_scaled.shape)"
   ]
  },
  {
   "cell_type": "code",
   "execution_count": null,
   "id": "1a35aff6",
   "metadata": {},
   "outputs": [],
   "source": [
    "param_grid = {\n",
    "    'n_estimators': [100, 200],\n",
    "    'max_depth': [10, 20, None],\n",
    "    'min_samples_split': [2, 5],\n",
    "}\n",
    "grid = GridSearchCV(RandomForestClassifier(random_state=42), param_grid, cv=3)\n",
    "grid.fit(X_train_scaled, y_train)\n",
    "print(\"Best Parameters:\", grid.best_params_)"
   ]
  },
  {
   "cell_type": "code",
   "execution_count": null,
   "id": "3f5f030a",
   "metadata": {},
   "outputs": [],
   "source": [
    "best_rf = RandomForestClassifier(**grid.best_params_, random_state=42)\n",
    "best_rf.fit(X_train_scaled, y_train)\n",
    "y_pred = best_rf.predict(X_test_scaled)\n",
    "print(\"✅ Accuracy:\", accuracy_score(y_test, y_pred))\n",
    "print(\"✅ Confusion Matrix:\\n\", confusion_matrix(y_test, y_pred))\n",
    "print(\"✅ Classification Report:\\n\", classification_report(y_test, y_pred))"
   ]
  },
  {
   "cell_type": "code",
   "execution_count": null,
   "id": "32426e7a",
   "metadata": {},
   "outputs": [],
   "source": [
    "y_pred = best_rf.predict(X_test_scaled)\n",
    "print(\"✅ Accuracy:\", accuracy_score(y_test, y_pred))\n",
    "print(\"✅ Confusion Matrix:\\n\", confusion_matrix(y_test, y_pred))\n",
    "print(\"✅ Classification Report:\\n\", classification_report(y_test, y_pred))"
   ]
  },
  {
   "cell_type": "code",
   "execution_count": null,
   "id": "3b59fe12",
   "metadata": {},
   "outputs": [],
   "source": [
    "importances = best_rf.feature_importances_\n",
    "feature_importance_df = pd.DataFrame({\n",
    "    'Feature': X_encoded.columns,\n",
    "    'Importance': importances\n",
    "}).sort_values(by='Importance', ascending=False)\n",
    "feature_importance_df.to_csv(\"Feature_Importance_Prioritized.csv\", index=False)\n",
    "\n",
    "plt.figure(figsize=(14, 10))\n",
    "sns.barplot(x='Importance', y='Feature', data=feature_importance_df, palette='viridis')\n",
    "plt.title(\"Feature Importance (High to Low)\", fontsize=18)\n",
    "plt.xlabel(\"Importance\", fontsize=14)\n",
    "plt.ylabel(\"Features\", fontsize=14)\n",
    "plt.tight_layout()\n",
    "plt.show()"
   ]
  },
  {
   "cell_type": "code",
   "execution_count": null,
   "id": "9efb8623",
   "metadata": {},
   "outputs": [],
   "source": [
    "cm = confusion_matrix(y_test, y_pred)\n",
    "disp = ConfusionMatrixDisplay(confusion_matrix=cm)\n",
    "disp.plot(cmap='Blues')\n",
    "plt.title(\"Confusion Matrix\")\n",
    "plt.show()"
   ]
  },
  {
   "cell_type": "code",
   "execution_count": null,
   "id": "ab96895c",
   "metadata": {},
   "outputs": [],
   "source": [
    "y_pred_prob = best_rf.predict_proba(X_test_scaled)[:,1]\n",
    "fpr, tpr, thresholds = roc_curve(y_test, y_pred_prob)\n",
    "roc_auc = auc(fpr, tpr)\n",
    "\n",
    "plt.figure(figsize=(8,6))\n",
    "plt.plot(fpr, tpr, label=f\"ROC Curve (AUC = {roc_auc:.2f})\")\n",
    "plt.plot([0,1], [0,1], 'k--')\n",
    "plt.xlabel(\"False Positive Rate\")\n",
    "plt.ylabel(\"True Positive Rate\")\n",
    "plt.title(\"ROC Curve - Random Forest\")\n",
    "plt.legend()\n",
    "plt.show()"
   ]
  },
  {
   "cell_type": "code",
   "execution_count": null,
   "id": "66f1536e",
   "metadata": {},
   "outputs": [],
   "source": [
    "joblib.dump(best_rf, \"best_random_forest_model.pkl\")\n",
    "joblib.dump(scaler, \"scaler.pkl\")\n",
    "joblib.dump(X_encoded.columns, \"model_columns.pkl\")"
   ]
  },
  {
   "cell_type": "code",
   "execution_count": null,
   "id": "da3c9ca3",
   "metadata": {},
   "outputs": [],
   "source": [
    "def predict_new_lead(data_dict):\n",
    "    import pandas as pd\n",
    "    import joblib\n",
    "\n",
    "    model = joblib.load(\"best_random_forest_model.pkl\")\n",
    "    scaler = joblib.load(\"scaler.pkl\")\n",
    "    columns = joblib.load(\"model_columns.pkl\")\n",
    "\n",
    "    df_new = pd.DataFrame([data_dict])\n",
    "    df_new_encoded = pd.get_dummies(df_new)\n",
    "    df_new_encoded = df_new_encoded.reindex(columns=columns, fill_value=0)\n",
    "    df_new_scaled = scaler.transform(df_new_encoded)\n",
    "    prediction = model.predict(df_new_scaled)\n",
    "    return prediction[0]"
   ]
  },
  {
   "cell_type": "code",
   "execution_count": null,
   "id": "fe80bd76",
   "metadata": {},
   "outputs": [],
   "source": []
  }
 ],
 "metadata": {
  "kernelspec": {
   "display_name": "Python 3",
   "language": "python",
   "name": "python3"
  },
  "language_info": {
   "codemirror_mode": {
    "name": "ipython",
    "version": 3
   },
   "file_extension": ".py",
   "mimetype": "text/x-python",
   "name": "python",
   "nbconvert_exporter": "python",
   "pygments_lexer": "ipython3",
   "version": "3.11.9"
  }
 },
 "nbformat": 4,
 "nbformat_minor": 5
}
